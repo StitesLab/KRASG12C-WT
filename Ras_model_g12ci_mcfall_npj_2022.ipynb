{
 "cells": [
  {
   "cell_type": "markdown",
   "id": "dc6ef0df-30d7-46c6-b0fc-78649975c71c",
   "metadata": {},
   "source": [
    "## Code to reproduce results and figures in (McFall 2022)\n",
    "## To run just simply choose \"Run All Cells\""
   ]
  },
  {
   "cell_type": "code",
   "execution_count": 1,
   "id": "66c76b3c-fedc-4341-8825-0b36b65730b2",
   "metadata": {},
   "outputs": [],
   "source": [
    "#Import libraries you will need (along with some plot magic for notebooks)\n",
    "%matplotlib inline\n",
    "import numpy\n",
    "import matplotlib.pyplot as plt\n",
    "import scipy.integrate\n",
    "import pickle\n",
    "import synergy\n",
    "import pandas as pd\n",
    "import plotly\n",
    "import copy"
   ]
  },
  {
   "cell_type": "code",
   "execution_count": 2,
   "id": "cee76d04-320a-4434-b10f-be3d663e98c5",
   "metadata": {},
   "outputs": [],
   "source": [
    "import matplotlib\n",
    "matplotlib.rcParams['pdf.fonttype'] = 42\n",
    "matplotlib.rcParams['ps.fonttype'] = 42\n",
    "from matplotlib import ticker"
   ]
  },
  {
   "cell_type": "markdown",
   "id": "50e8a614-0ecc-428d-8c44-a829e98ac2f2",
   "metadata": {},
   "source": [
    "## Dose response CTX + AMG-510, code to produce Figure 2B-E"
   ]
  },
  {
   "cell_type": "code",
   "execution_count": 3,
   "id": "68aa4f34-1269-4f25-851a-aa880012ebd6",
   "metadata": {},
   "outputs": [],
   "source": [
    "#Function defining RAS model with G12Ci\n",
    "def ras_wt_12i(kd_gdp=1.1e-4,ka_gdp=2.3e6,kd_gdp_mut=1.1e-4,ka_gdp_mut=2.3e6,\n",
    "               kd_gtp=2.5e-4,ka_gtp=2.2e6,kd_gtp_mut=2.5e-4,ka_gtp_mut=2.2e6,\n",
    "               kcat_gdp=3.9,Km_gdp=3.86e-4,Km_gtp=3e-4,#kcat_gtp=0.72\n",
    "               kcat_gdp_mut=3.9,Km_gdp_mut=3.86e-4,Km_gtp_mut=3e-4,#kcat_gtp_mut=0.72\n",
    "               k_hyd=3.5e-4,k_hyd_mut=3.5e-4,k_cat=5.4,Km=2.3e-7,k_cat_mut=5.4,Km_mut=2.3e-7,\n",
    "               ka_eff=4.5e7,kd_eff=3.6,ka_eff_mut=4.5e7,kd_eff_mut=3.6,D=250,\n",
    "               k_deg=8e-6,\n",
    "               ka_drug=76,kd_gdp_SII=1.1e-4,ka_gdp_SII=2.3e6,\n",
    "               SII_PI0=0,Ras_GDP_SII_mut0=0,Ras_nf_SII_mut0=0,\n",
    "               GEF=2e-10*5,GAP=6e-11,GTP=1.8e-4,GDP=1.8e-5,\n",
    "               Ras_GTP0=0,Ras_GDP0=4e-7,Ras_nf0=0,ras_wt=4e-7,ras_mut=4e-7,\n",
    "               Eff0=4e-7,Ras_GTP_Eff0=0,Ras_GTP_mut0=0,\n",
    "               Ras_GDP_mut0=0,Ras_nf_mut0=0,Ras_GTP_Eff_mut0=0,\n",
    "               t_end=100000,dt=1.0):\n",
    "    \n",
    "    #Enforcing detailed balance\n",
    "    kcat_gtp = (ka_gdp*GDP*kd_gtp/(kd_gdp*ka_gtp*GTP))*(kcat_gdp*Km_gtp/Km_gdp)\n",
    "    kcat_gtp_mut = (ka_gdp_mut*GDP*kd_gtp_mut/(kd_gdp_mut*ka_gtp_mut*GTP))*(kcat_gdp_mut*Km_gtp_mut/Km_gdp_mut)\n",
    "    #print(kcat_gtp,kcat_gtp_mut)\n",
    "    \n",
    "    #Production and degredation terms\n",
    "    k_prod = k_deg*(ras_wt)\n",
    "    k_prod_mut = k_deg*(ras_mut)\n",
    "    #print(k_prod,k_prod_mut)\n",
    "    \n",
    "    def fmut(t,y): \n",
    "        Ras_GTP = y[0]\n",
    "        Ras_GDP = y[1]\n",
    "        Ras_nf = y[2]\n",
    "        Eff = y[3]\n",
    "        Ras_GTP_Eff = y[4]\n",
    "        \n",
    "        Ras_GTP_mut = y[5]\n",
    "        Ras_GDP_mut = y[6]\n",
    "        Ras_nf_mut = y[7]\n",
    "        Ras_GTP_Eff_mut = y[8]\n",
    "        \n",
    "        SII_PI = y[9]\n",
    "        Ras_GDP_SII_mut = y[10]\n",
    "        Ras_nf_SII_mut = y[11]\n",
    "        \n",
    "        R1 = kd_gdp*Ras_GDP - ka_gdp*Ras_nf*GDP\n",
    "        R1_mut = kd_gdp_mut*Ras_GDP_mut - ka_gdp_mut*Ras_nf_mut*GDP\n",
    "        R2 = kd_gtp*Ras_GTP - ka_gtp*Ras_nf*GTP\n",
    "        R2_mut = kd_gtp_mut*Ras_GTP_mut - ka_gtp_mut*Ras_nf_mut*GTP\n",
    "        R3 = GEF*(kcat_gdp*Ras_GDP/(Km_gdp/D) - kcat_gtp*Ras_GTP/(Km_gtp/D))/(1+Ras_GDP/(Km_gdp/D) + Ras_GTP/(Km_gtp/D) + \n",
    "                                                                                 Ras_GDP_mut/(Km_gdp_mut/D) + Ras_GTP_mut/(Km_gtp_mut/D))\n",
    "        R3_mut = GEF*(kcat_gdp_mut*Ras_GDP_mut/(Km_gdp_mut/D) - kcat_gtp_mut*Ras_GTP_mut/(Km_gtp_mut/D))/(1+Ras_GDP/(Km_gdp/D) + \n",
    "                                                                                                         Ras_GTP/(Km_gtp/D) +\n",
    "                                                                                                         Ras_GDP_mut/(Km_gdp_mut/D) + \n",
    "                                                                                                         Ras_GTP_mut/(Km_gtp_mut/D))\n",
    "        R4 = k_hyd*Ras_GTP\n",
    "        R4_mut = k_hyd_mut*Ras_GTP_mut\n",
    "        R5 = k_cat*GAP*Ras_GTP/((Km/D)*(1 + Ras_GTP_mut/(Km_mut/D)) + Ras_GTP)\n",
    "        R5_mut = k_cat_mut*GAP*Ras_GTP_mut/((Km_mut/D)*(1 + Ras_GTP/(Km/D)) + Ras_GTP_mut)\n",
    "        R6 = ka_eff*Ras_GTP*Eff - kd_eff*Ras_GTP_Eff\n",
    "        R6_mut = ka_eff_mut*Ras_GTP_mut*Eff - kd_eff_mut*Ras_GTP_Eff_mut\n",
    "        R7 = k_hyd*Ras_GTP_Eff\n",
    "        R7_mut = k_hyd_mut*Ras_GTP_Eff_mut\n",
    "        \n",
    "        #Production and degredation\n",
    "        R8 = k_prod - k_deg*Ras_nf\n",
    "        R8_mut = k_prod_mut - k_deg*Ras_nf_mut\n",
    "        R9 = -k_deg*Ras_GDP\n",
    "        R9_mut = -k_deg*Ras_GDP_mut\n",
    "        R10 = -k_deg*Ras_GTP\n",
    "        R10_mut = -k_deg*Ras_GTP_mut\n",
    "        R11 = -k_deg*Ras_GTP_Eff\n",
    "        R11_mut = -k_deg*Ras_GTP_Eff_mut\n",
    "        \n",
    "        #Switch II pocket inhibitor reactions\n",
    "        R15_mut = ka_drug*Ras_GDP_mut*SII_PI\n",
    "        R16_mut = ka_drug*Ras_nf_mut*SII_PI\n",
    "        \n",
    "        R17_mut = -k_deg*Ras_GDP_SII_mut\n",
    "        R18_mut = -k_deg*Ras_nf_SII_mut\n",
    "        \n",
    "        #R19_mut = kd_gdp_SII*Ras_GDP_SII_mut - ka_gdp_SII*Ras_nf_SII_mut*GDP\n",
    "        R19_mut = kd_gdp_mut*Ras_GDP_SII_mut - ka_gdp_mut*Ras_nf_SII_mut*GDP\n",
    "        \n",
    "        res_0 = - R2 + R3 - R4 - R5 - R6 + R10 #WT RasGTP\n",
    "        res_1 = - R1 - R3 + R4 + R5 + R7 + R9 #WT RasGDP\n",
    "        res_2 = R1 + R2 + R8#WT RasNF\n",
    "        res_3 = - R6 + R7 - R6_mut + R7_mut - R11 - R11_mut #Effector\n",
    "        res_4 = R6 - R7 + R11 # WT RasGTP-Effector\n",
    "        \n",
    "        res_5 = - R2_mut + R3_mut - R4_mut - R5_mut - R6_mut + R10_mut #mut RasGTP\n",
    "        res_6 = - R1_mut - R3_mut + R4_mut + R5_mut + R7_mut + R9_mut - R15_mut #mut RasGDP\n",
    "        res_7 = R1_mut + R2_mut + R8_mut - R16_mut #mut RasNF\n",
    "        res_8 = R6_mut - R7_mut + R11_mut #mut RasGTP-Effector\n",
    "        \n",
    "        res_9 = - R15_mut - R16_mut - R17_mut - R18_mut #SII_PI\n",
    "        res_10 = R15_mut + R17_mut - R19_mut #Ras_GDP_SII_mut\n",
    "        res_11 = R16_mut + R18_mut + R19_mut #Ras_nf_SII_mut\n",
    "        \n",
    "        return [res_0,res_1,res_2,res_3,res_4,res_5,res_6,res_7,res_8,res_9,res_10,res_11]\n",
    "    \n",
    "    y0, t0 = [Ras_GTP0,Ras_GDP0,Ras_nf0,Eff0,Ras_GTP_Eff0,Ras_GTP_mut0,Ras_GDP_mut0,Ras_nf_mut0,Ras_GTP_Eff_mut0,\n",
    "              SII_PI0,Ras_GDP_SII_mut0,Ras_nf_SII_mut0], 0\n",
    "    r = scipy.integrate.ode(fmut).set_integrator('lsoda', method='bdf', with_jacobian=False)\n",
    "    r.set_initial_value(y0, t0)\n",
    "    \n",
    "    t_vec = []\n",
    "    Ras_GTP_vec = []\n",
    "    Ras_GDP_vec = []\n",
    "    Ras_nf_vec = []\n",
    "    Eff_vec = []\n",
    "    Ras_GTP_Eff_vec = []\n",
    "\n",
    "    Ras_GTP_mut_vec = []\n",
    "    Ras_GDP_mut_vec = []\n",
    "    Ras_nf_mut_vec = []\n",
    "    Ras_GTP_Eff_mut_vec = []\n",
    "    \n",
    "    SII_PI_vec = []\n",
    "    Ras_GDP_SII_mut_vec = []\n",
    "    Ras_nf_SII_mut_vec = []\n",
    "    \n",
    "    count = 1\n",
    "    dmet = 1.0\n",
    "    yprev = y0\n",
    "    wtol = 1e-30\n",
    "    while r.successful() and r.t < t_end and numpy.dot(dmet,dmet)>wtol:\n",
    "        if r.t==0 or not count%100:\n",
    "            t_vec.append(r.t)\n",
    "            Ras_GTP_vec.append(r.y[0])\n",
    "            Ras_GDP_vec.append(r.y[1])\n",
    "            Ras_nf_vec.append(r.y[2])\n",
    "            Eff_vec.append(r.y[3])\n",
    "            Ras_GTP_Eff_vec.append(r.y[4])\n",
    "            Ras_GTP_mut_vec.append(r.y[5])\n",
    "            Ras_GDP_mut_vec.append(r.y[6])\n",
    "            Ras_nf_mut_vec.append(r.y[7])\n",
    "            Ras_GTP_Eff_mut_vec.append(r.y[8])\n",
    "            SII_PI_vec.append(r.y[9])\n",
    "            Ras_GDP_SII_mut_vec.append(r.y[10])\n",
    "            Ras_nf_SII_mut_vec.append(r.y[11])\n",
    "        r.integrate(r.t+dt)\n",
    "        dmet = r.y - yprev\n",
    "        #print(numpy.dot(dmet,dmet))\n",
    "        yprev = r.y\n",
    "        count=count+1\n",
    "        \n",
    "        if r.t>=t_end:\n",
    "            print('Reached the end!')\n",
    "        \n",
    "    return [t_vec,Ras_GTP_vec,Ras_GDP_vec,Ras_nf_vec,Eff_vec,Ras_GTP_Eff_vec,\n",
    "            Ras_GTP_mut_vec,Ras_GDP_mut_vec,Ras_nf_mut_vec,Ras_GTP_Eff_mut_vec,\n",
    "            SII_PI_vec,Ras_GDP_SII_mut_vec,Ras_nf_SII_mut_vec]"
   ]
  },
  {
   "cell_type": "code",
   "execution_count": 4,
   "id": "e513647d-20e2-45d0-b482-83bb02f4902f",
   "metadata": {},
   "outputs": [],
   "source": [
    "#Initial concentrations and parameters\n",
    "total_ras=4e-7\n",
    "ras_wt=total_ras*0.75\n",
    "ras_mut=total_ras*0.25\n",
    "total_eff = 4e-7\n",
    "GEF_base = 2e-10\n",
    "#Default parameters\n",
    "# 'kd_gdp':1.1e-4,'ka_gdp':2.3e6,'kd_gdp_mut':1.1e-4,'ka_gdp_mut':2.3e6,\n",
    "# 'kd_gtp':2.5e-4,'ka_gtp':2.2e6,'kd_gtp_mut':2.5e-4,'ka_gtp_mut':2.2e6,\n",
    "# 'kcat_gdp':3.9,'Km_gdp':3.86e-4,'kcat_gtp':0.72,'Km_gtp':3e-4,\n",
    "# 'kcat_gdp_mut':3.9,'Km_gdp_mut':3.86e-4,'kcat_gtp_mut':0.72,'Km_gtp_mut':3e-4,\n",
    "# 'k_hyd':3.5e-4,'k_hyd_mut':3.5e-4,'k_cat':5.4,'Km':2.3e-7,'k_cat_mut':5.4,'Km_mut':2.3e-7,\n",
    "# 'ka_eff':4.5e7,'kd_eff':3.6,'ka_eff_mut':4.5e7,'kd_eff_mut':3.6,'D':250,\n",
    "# k_deg=8e-6,\n",
    "# ka_drug=76,kd_gdp_SII=1.1e-4,ka_gdp_SII=2.3e6,\n",
    "# SII_PI0=0,Ras_GDP_SII_mut0=0,Ras_nf_SII_mut0=0,\n",
    "# 'GEF':2e-10,'GAP':6e-11,'GTP':1.8e-4,'GDP':1.8e-5,\n",
    "# 'Ras_GTP0':0,'Ras_GDP0':total_ras,'Ras_nf0':0,'ras_wt':total_ras,'ras_mut':0,\n",
    "# 'Eff0':4e-7,'Ras_GTP_Eff0':0,'Ras_GTP_mut0':0,\n",
    "# 'Ras_GDP_mut0':0,'Ras_nf_mut0':0,'Ras_GTP_Eff_mut0':0,\n",
    "# 't_end':100000,'dt':1.0"
   ]
  },
  {
   "cell_type": "code",
   "execution_count": 5,
   "id": "1b0ec587-696e-4c1b-92dc-ee1311c4f4f8",
   "metadata": {},
   "outputs": [],
   "source": [
    "#Biochemical parameters for mutant KRAS G12C\n",
    "params_dic_2C = {'Km':2.3e-7,\n",
    "                 'ka_drug':9900,\n",
    "                 'kcat_gdp':3.9,\n",
    "                 'kd_gdp_mut':1.1e-4,'ka_gdp_mut':2.3e6,\n",
    "                 'kd_gtp_mut':2.5e-4,'ka_gtp_mut':2.2e6,\n",
    "                 'k_hyd_mut':3.5e-4*(49.0/68),\n",
    "                 'ka_eff_mut':4.5e7,'kd_eff_mut':3.6*(67.0/56),\n",
    "                 'kcat_gdp_mut':3.9,'Km_gdp_mut':3.86e-4,'Km_gtp_mut':3e-4,#ka_gefd_mut=,ka_geft_mut=,'kcat_gtp_mut':0.72\n",
    "                 'k_cat_mut':3.5e-4*(49.0/68),'Km_mut':2.3e-7*10,#ka_gap_mut=,\n",
    "                 'k_deg':8e-6,\n",
    "                 'Ras_GDP0':ras_wt,'Eff0':total_eff,'Ras_GDP_mut0':ras_mut,\n",
    "                 'ras_wt':ras_wt,'ras_mut':ras_mut,\n",
    "                 'GEF':GEF_base*11.91817654,'GAP':6e-11,\n",
    "                 't_end':500000,'dt':1.0}"
   ]
  },
  {
   "cell_type": "code",
   "execution_count": 14,
   "id": "b565c493-81a8-4588-9825-d826eabd1d42",
   "metadata": {},
   "outputs": [],
   "source": [
    "#Defining range of GEF concentration (modeling EGFRi) and G12Ci drug concentrations\n",
    "GEF_base = 2e-10\n",
    "a = numpy.zeros(41)\n",
    "for aa in numpy.arange(41):\n",
    "    a[aa]=(4.0/3)**aa\n",
    "DrugDoses=(1e-10)*a\n",
    "\n",
    "b = numpy.zeros(27)\n",
    "for bb in numpy.arange(27):\n",
    "    b[bb]=(1.1)**bb\n",
    "    #b[bb]=(1.075)**bb\n",
    "    \n",
    "GEFvals=b*GEF_base\n",
    "\n",
    "#print(DrugDoses, GEFvals, b)"
   ]
  },
  {
   "cell_type": "code",
   "execution_count": 7,
   "id": "a3a7d18e-d434-4bcc-a2da-b48b087054c6",
   "metadata": {},
   "outputs": [
    {
     "name": "stdout",
     "output_type": "stream",
     "text": [
      "CPU times: user 4min 47s, sys: 5.88 s, total: 4min 52s\n",
      "Wall time: 4min 52s\n"
     ]
    }
   ],
   "source": [
    "%%time\n",
    "#VARYING EGFRi and G12Ci\n",
    "store_vec = []\n",
    "for i,GEF_conc in enumerate(GEFvals):\n",
    "    for j,Ci_conc in enumerate(DrugDoses):\n",
    "        #G12C\n",
    "        params_dic_2C['GEF'] = GEF_conc #GEF_conc\n",
    "        params_dic_2C['SII_PI0'] = Ci_conc #Ci_conc\n",
    "        [t_vec,Ras_GTP_vec,Ras_GDP_vec,Ras_nf_vec,Eff_vec,Ras_GTP_Eff_vec,\n",
    "         Ras_GTP_mut_vec,Ras_GDP_mut_vec,Ras_nf_mut_vec,Ras_GTP_Eff_mut_vec,\n",
    "         SII_PI_vec,Ras_GDP_SII_mut_vec,Ras_nf_SII_mut_vec] = ras_wt_12i(**params_dic_2C)\n",
    "        \n",
    "        store_vec_2C = [Ras_GTP_vec[-1],Ras_GDP_vec[-1],Ras_nf_vec[-1],Eff_vec[-1],Ras_GTP_Eff_vec[-1],\n",
    "                        Ras_GTP_mut_vec[-1],Ras_GDP_mut_vec[-1],Ras_nf_mut_vec[-1],Ras_GTP_Eff_mut_vec[-1],\n",
    "                        SII_PI_vec[-1],Ras_GDP_SII_mut_vec[-1],Ras_nf_SII_mut_vec[-1]]\n",
    "    \n",
    "        \n",
    "        store_vec.append(store_vec_2C)"
   ]
  },
  {
   "cell_type": "code",
   "execution_count": 8,
   "id": "ac48bcea-35d0-436b-8dfb-e2e2d24c9fb7",
   "metadata": {},
   "outputs": [],
   "source": [
    "store_vec = numpy.array(store_vec)\n",
    "\n",
    "plot_vec_bliss_wt = numpy.zeros([len(GEFvals),len(DrugDoses)])\n",
    "plot_vec_bliss_mut = numpy.zeros([len(GEFvals),len(DrugDoses)])\n",
    "plot_vec_bliss_tot = numpy.zeros([len(GEFvals),len(DrugDoses)])\n",
    "\n",
    "plot_ras_gtp_wt = numpy.zeros([len(GEFvals),len(DrugDoses)])\n",
    "plot_ras_gtp_mut = numpy.zeros([len(GEFvals),len(DrugDoses)])\n",
    "plot_ras_gtp_tot = numpy.zeros([len(GEFvals),len(DrugDoses)])\n",
    "\n",
    "count = 0\n",
    "for i,GEF_conc in enumerate(GEFvals):\n",
    "    for j,Ci_conc in enumerate(DrugDoses):\n",
    "        ############\n",
    "        ############    STANDARD: TOTAL RASGTP, WT MUTANT, from sweep\n",
    "        ############\n",
    "        zero_index1 = len(DrugDoses)*(len(GEFvals)-1)\n",
    "        wt_ras_gtp_wt = (store_vec[zero_index1,0]+store_vec[zero_index1,4])#/total_ras\n",
    "        wt_ras_gtp_mut = (store_vec[zero_index1,5]+store_vec[zero_index1,8])#/total_ras\n",
    "        wt_ras_gtp_tot = wt_ras_gtp_wt + wt_ras_gtp_mut\n",
    "                \n",
    "        zero_index2 =  i*len(DrugDoses)\n",
    "        egfri_alone_wt = 1 - (store_vec[zero_index2,0]+store_vec[zero_index2,4])/wt_ras_gtp_wt\n",
    "        egfri_alone_mut = 1 - (store_vec[zero_index2,5]+store_vec[zero_index2,8])/wt_ras_gtp_mut\n",
    "        egfri_alone_tot = 1 - (store_vec[zero_index2,0]+store_vec[zero_index2,4]+store_vec[zero_index2,5]+store_vec[zero_index2,8])/wt_ras_gtp_tot\n",
    "        \n",
    "        zero_index3 = zero_index1 + j\n",
    "        g12ci_alone_wt = 1 - (store_vec[zero_index3,0]+store_vec[zero_index3,4])/wt_ras_gtp_wt\n",
    "        g12ci_alone_mut = 1 - (store_vec[zero_index3,5]+store_vec[zero_index3,8])/wt_ras_gtp_mut\n",
    "        g12ci_alone_tot = 1 - (store_vec[zero_index3,0]+store_vec[zero_index3,4]+store_vec[zero_index3,5]+store_vec[zero_index3,8])/wt_ras_gtp_tot\n",
    "        \n",
    "        combo_wt = 1 - (store_vec[count,0]+store_vec[count,4])/wt_ras_gtp_wt\n",
    "        combo_mut = 1 - (store_vec[count,5]+store_vec[count,8])/wt_ras_gtp_mut\n",
    "        combo_tot = 1 - (store_vec[count,0]+store_vec[count,4]+store_vec[count,5]+store_vec[count,8])/wt_ras_gtp_tot\n",
    "        \n",
    "        plot_vec_bliss_wt[i,j] = combo_wt - (egfri_alone_wt + g12ci_alone_wt - egfri_alone_wt*g12ci_alone_wt)\n",
    "        plot_vec_bliss_mut[i,j] = combo_mut - (egfri_alone_mut + g12ci_alone_mut - egfri_alone_mut*g12ci_alone_mut)\n",
    "        plot_vec_bliss_tot[i,j] = combo_tot - (egfri_alone_tot + g12ci_alone_tot - egfri_alone_tot*g12ci_alone_tot)\n",
    "        \n",
    "        plot_ras_gtp_wt[i,j] = store_vec[count,0]+store_vec[count,4]\n",
    "        plot_ras_gtp_mut[i,j] = store_vec[count,5]+store_vec[count,8]\n",
    "        plot_ras_gtp_tot[i,j] = store_vec[count,0]+store_vec[count,4]+store_vec[count,5]+store_vec[count,8]\n",
    "        \n",
    "        count = count + 1"
   ]
  },
  {
   "cell_type": "code",
   "execution_count": 9,
   "id": "47623199-6e20-441d-900c-3dc40ec0f5da",
   "metadata": {},
   "outputs": [],
   "source": [
    "def make_heatmap(vec):\n",
    "    sub1 = 0\n",
    "    sub2 = 21\n",
    "    vecx = DrugDoses\n",
    "    vecy = GEFvals\n",
    "\n",
    "    #vec = plot_vec_bliss_tot*100\n",
    "\n",
    "    fig, ax = plt.subplots()\n",
    "    im = ax.imshow(numpy.flipud(vec),interpolation='none',cmap='jet')#,vmin=-0.002,vmax=0.25)\n",
    "\n",
    "    # We want to show all ticks...\n",
    "    ax.set_xticks(numpy.arange(len(vecx),step=2))\n",
    "    ax.set_yticks(numpy.arange(len(vecy),step=2)[::-1])\n",
    "    # ... and label them with the respective list entries\n",
    "    ax.set_xticklabels(numpy.round(vecx[::2],4))\n",
    "    ax.set_yticklabels(numpy.round(vecy[::2],4))\n",
    "\n",
    "    ax.set_xlabel('G12Ci')\n",
    "    ax.set_ylabel('EGFRi')\n",
    "\n",
    "    cbar = ax.figure.colorbar(im, ax=ax)\n",
    "\n",
    "    tick_locator = ticker.MaxNLocator(nbins=4)\n",
    "    cbar.locator = tick_locator\n",
    "    cbar.update_ticks()\n",
    "    cbar.ax.tick_params(labelsize=20)\n",
    "\n",
    "    # Rotate the tick labels and set their alignment.\n",
    "    plt.setp(ax.get_xticklabels(), rotation=45, ha=\"right\",\n",
    "             rotation_mode=\"anchor\")\n",
    "\n",
    "    #ax.set_title(\"Total Bliss Synergy Score RasGTP\")\n",
    "    plt.axis('off')\n",
    "\n",
    "    fig.tight_layout()"
   ]
  },
  {
   "cell_type": "code",
   "execution_count": 10,
   "id": "9f7c803d-57d8-40ac-9677-df6d79e865f6",
   "metadata": {},
   "outputs": [
    {
     "data": {
      "image/png": "[encoded data removed]",
      "text/plain": [
       "<Figure size 432x288 with 2 Axes>"
      ]
     },
     "metadata": {
      "needs_background": "light"
     },
     "output_type": "display_data"
    },
    {
     "data": {
      "image/png": "[encoded data removed]",
      "text/plain": [
       "<Figure size 432x288 with 2 Axes>"
      ]
     },
     "metadata": {
      "needs_background": "light"
     },
     "output_type": "display_data"
    },
    {
     "data": {
      "image/png": "[encoded data removed]",
      "text/plain": [
       "<Figure size 432x288 with 2 Axes>"
      ]
     },
     "metadata": {
      "needs_background": "light"
     },
     "output_type": "display_data"
    },
    {
     "data": {
      "image/png": "[encoded data removed]",
      "text/plain": [
       "<Figure size 432x288 with 2 Axes>"
      ]
     },
     "metadata": {
      "needs_background": "light"
     },
     "output_type": "display_data"
    },
    {
     "data": {
      "image/png": "[encoded data removed]",
      "text/plain": [
       "<Figure size 432x288 with 2 Axes>"
      ]
     },
     "metadata": {
      "needs_background": "light"
     },
     "output_type": "display_data"
    },
    {
     "data": {
      "image/png": "[encoded data removed]",
      "text/plain": [
       "<Figure size 432x288 with 2 Axes>"
      ]
     },
     "metadata": {
      "needs_background": "light"
     },
     "output_type": "display_data"
    }
   ],
   "source": [
    "vec_list = [plot_vec_bliss_tot*100,plot_vec_bliss_wt*100,plot_vec_bliss_mut*100,\n",
    "           plot_ras_gtp_tot*100/total_ras,plot_ras_gtp_wt*100/ras_wt,plot_ras_gtp_mut*100/ras_mut]\n",
    "for vec in vec_list:\n",
    "    make_heatmap(vec)"
   ]
  },
  {
   "cell_type": "markdown",
   "id": "c62d62cc-14a8-4344-b069-457234081604",
   "metadata": {},
   "source": [
    "## Comparing ARS-853 and AMG-510, code to produce Supplementary Figure 2"
   ]
  },
  {
   "cell_type": "code",
   "execution_count": 11,
   "id": "6e85e190-5453-4c1b-a18b-adccdc89b2cd",
   "metadata": {},
   "outputs": [
    {
     "name": "stdout",
     "output_type": "stream",
     "text": [
      "CPU times: user 13.8 s, sys: 350 ms, total: 14.2 s\n",
      "Wall time: 14.2 s\n"
     ]
    }
   ],
   "source": [
    "%%time\n",
    "#VARYING G12Ci\n",
    "#AMG-510\n",
    "store_vec2 = []\n",
    "for j,Ci_conc in enumerate(DrugDoses):\n",
    "    #G12C\n",
    "    params_dic_2C['GEF'] = GEFvals[-1] #GEF_conc ##STANDARD\n",
    "    params_dic_2C['SII_PI0'] = Ci_conc #Ci_conc\n",
    "    [t_vec,Ras_GTP_vec,Ras_GDP_vec,Ras_nf_vec,Eff_vec,Ras_GTP_Eff_vec,\n",
    "     Ras_GTP_mut_vec,Ras_GDP_mut_vec,Ras_nf_mut_vec,Ras_GTP_Eff_mut_vec,\n",
    "     SII_PI_vec,Ras_GDP_SII_mut_vec,Ras_nf_SII_mut_vec] = ras_wt_12i(**params_dic_2C)\n",
    "\n",
    "    store_vec_2C = [Ras_GTP_vec[-1],Ras_GDP_vec[-1],Ras_nf_vec[-1],Eff_vec[-1],Ras_GTP_Eff_vec[-1],\n",
    "                    Ras_GTP_mut_vec[-1],Ras_GDP_mut_vec[-1],Ras_nf_mut_vec[-1],Ras_GTP_Eff_mut_vec[-1],\n",
    "                    SII_PI_vec[-1],Ras_GDP_SII_mut_vec[-1],Ras_nf_SII_mut_vec[-1]]\n",
    "\n",
    "    store_vec2.append(store_vec_2C)"
   ]
  },
  {
   "cell_type": "code",
   "execution_count": 12,
   "id": "d9ad6d13-bca3-4c16-b02d-30e7b22725c3",
   "metadata": {},
   "outputs": [
    {
     "name": "stdout",
     "output_type": "stream",
     "text": [
      "CPU times: user 1min 9s, sys: 1.68 s, total: 1min 10s\n",
      "Wall time: 1min 10s\n"
     ]
    }
   ],
   "source": [
    "%%time\n",
    "#VARYING G12Ci\n",
    "#ARS-853\n",
    "params_dic_2C['ka_drug']= 76\n",
    "params_dic_2C['t_end']= 700000\n",
    "store_vec_with_deg = []\n",
    "for j,Ci_conc in enumerate(DrugDoses):\n",
    "    #G12C\n",
    "    params_dic_2C['GEF'] = GEFvals[-1] #GEF_conc ##STANDARD\n",
    "    params_dic_2C['SII_PI0'] = Ci_conc #Ci_conc\n",
    "    [t_vec,Ras_GTP_vec,Ras_GDP_vec,Ras_nf_vec,Eff_vec,Ras_GTP_Eff_vec,\n",
    "     Ras_GTP_mut_vec,Ras_GDP_mut_vec,Ras_nf_mut_vec,Ras_GTP_Eff_mut_vec,\n",
    "     SII_PI_vec,Ras_GDP_SII_mut_vec,Ras_nf_SII_mut_vec] = ras_wt_12i(**params_dic_2C)\n",
    "\n",
    "    store_vec_2C = [Ras_GTP_vec[-1],Ras_GDP_vec[-1],Ras_nf_vec[-1],Eff_vec[-1],Ras_GTP_Eff_vec[-1],\n",
    "                    Ras_GTP_mut_vec[-1],Ras_GDP_mut_vec[-1],Ras_nf_mut_vec[-1],Ras_GTP_Eff_mut_vec[-1],\n",
    "                    SII_PI_vec[-1],Ras_GDP_SII_mut_vec[-1],Ras_nf_SII_mut_vec[-1]]\n",
    "\n",
    "    store_vec_with_deg.append(store_vec_2C)"
   ]
  },
  {
   "cell_type": "code",
   "execution_count": 13,
   "id": "536053da-6d46-4dbd-930e-0ef0cd153df0",
   "metadata": {},
   "outputs": [
    {
     "data": {
      "text/plain": [
       "<matplotlib.legend.Legend at 0x7ff7201aae50>"
      ]
     },
     "execution_count": 13,
     "metadata": {},
     "output_type": "execute_result"
    },
    {
     "data": {
      "image/png": "[encoded data removed]",
      "text/plain": [
       "<Figure size 432x288 with 1 Axes>"
      ]
     },
     "metadata": {
      "needs_background": "light"
     },
     "output_type": "display_data"
    }
   ],
   "source": [
    "store_vec2 = numpy.array(store_vec2)\n",
    "store_vec_with_deg = numpy.array(store_vec_with_deg)\n",
    "resp_list = (store_vec2[:,0]+store_vec2[:,4]+store_vec2[:,5]+store_vec2[:,8])\n",
    "resp_list = resp_list*100/max(resp_list)\n",
    "resp_list_with_deg = (store_vec_with_deg[:,0]+store_vec_with_deg[:,4]+store_vec_with_deg[:,5]+store_vec_with_deg[:,8])\n",
    "resp_list_with_deg = resp_list_with_deg*100/max(resp_list_with_deg)\n",
    "plt.semilogx(DrugDoses,resp_list_with_deg,'b+-',label='ARS-853',linewidth=2,markersize=10)\n",
    "plt.semilogx(DrugDoses,resp_list,'r+-',label='AMG-510',linewidth=2,markersize=10)\n",
    "#plt.xlabel('G12Ci [M]')\n",
    "#plt.ylabel('Total RasGTP [% of max]',fontsize=20)\n",
    "plt.ylim([65,125])\n",
    "plt.xticks([10**-10,10**-8,10**-5],size=20)#,fontweight='bold')\n",
    "plt.yticks([75,100,125],size=20)\n",
    "\n",
    "plt.legend(fontsize=20)"
   ]
  }
 ],
 "metadata": {
  "kernelspec": {
   "display_name": "Python 3",
   "language": "python",
   "name": "python3"
  },
  "language_info": {
   "codemirror_mode": {
    "name": "ipython",
    "version": 3
   },
   "file_extension": ".py",
   "mimetype": "text/x-python",
   "name": "python",
   "nbconvert_exporter": "python",
   "pygments_lexer": "ipython3",
   "version": "3.8.8"
  }
 },
 "nbformat": 4,
 "nbformat_minor": 5
}
